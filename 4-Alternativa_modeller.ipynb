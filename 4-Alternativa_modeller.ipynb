{
  "nbformat": 4,
  "nbformat_minor": 0,
  "metadata": {
    "colab": {
      "name": "4. Alternativa modeller.ipynb",
      "provenance": [],
      "collapsed_sections": [],
      "toc_visible": true,
      "include_colab_link": true
    },
    "kernelspec": {
      "name": "python3",
      "display_name": "Python 3"
    }
  },
  "cells": [
    {
      "cell_type": "markdown",
      "metadata": {
        "id": "view-in-github",
        "colab_type": "text"
      },
      "source": [
        "<a href=\"https://colab.research.google.com/github/EricBojs/Barcoding-Nairobi/blob/master/4-Alternativa_modeller.ipynb\" target=\"_parent\"><img src=\"https://colab.research.google.com/assets/colab-badge.svg\" alt=\"Open In Colab\"/></a>"
      ]
    },
    {
      "cell_type": "markdown",
      "metadata": {
        "id": "rqz3GXLC1Bya",
        "colab_type": "text"
      },
      "source": [
        "# 4 Alternativa modeller $"
      ]
    },
    {
      "cell_type": "markdown",
      "metadata": {
        "id": "8bOjw6d8-3sW",
        "colab_type": "text"
      },
      "source": [
        "## 4.1 För volatilitet $\n",
        "\n",
        "I det här kompendiumet har vi tagit fram $\\sigma$ genom en statisk modell där varje datapunkt är viktat jämnt. Grundantagandet som vi har gjort hela vår analys bygger på att $\\sigma$ är kan ses ha ett konstant värde över den tid vi tar vårat stickprov. Volatiliteten skiftar dock över tid och därför finns det intresse av att minska vikten av äldre datapunkter.\n",
        "\n",
        "Formeln som vi har utgått ifrån är den vanliga för att estimera standardavvikelse och viktar $m$ datapunkter jämt, alltså $\\frac{1}{m}$: \n",
        "\n",
        "$$\\hat{\\sigma}^2_n = \\frac{1}{m} \\sum_{i=1}^{m} u^2_{n-i} : u_i = \\ln \\frac{S_i}{S_{i-1}}$$\n",
        "\n",
        "Om vi vill vikta datapunker annorlunda behöver vi introducera en variabel $\\alpha$:\n",
        "\n",
        "$$\\sigma^2_n = \\sum_{i=1}^{m} u^2_{n-i} \\cdot \\alpha_i$$\n",
        "\n",
        "där $\\alpha$ bör sätta en större vikt andel på de senare datapunkerna, men alltid följer:\n",
        " \n",
        " $$\\sum_{i=1}^{m} \\alpha_i = 1.$$\n",
        "\n",
        "En ytterligare förfining av den adaptiva modellen för $\\sigma^2_n$ är att lägga till en långvarig varians, $V_L$, med viktningen $\\gamma$ så att \n",
        "\n",
        "$$\\sigma^2_n = V_L \\cdot \\gamma + \\sum_{i=1}^{m} u^2_{n-i} \\cdot \\alpha_i \\text{ där } \\gamma + \\sum_{i=1}^{m} \\alpha_i = 1$$\n",
        "\n",
        "Den långvariga variansen, $V_L$, bygger på en tro att variansen bör ligga kring något medel, men dra ifrån det om närliggande historik talar för det. "
      ]
    },
    {
      "cell_type": "markdown",
      "metadata": {
        "id": "WPKYrRxe-7QJ",
        "colab_type": "text"
      },
      "source": [
        "### 4.1.1 EWMA-modellen\n",
        "\n",
        "Denna modellen härleds ifrån den viktande modellen i det föregående avsnittet och tar större hänsyn till de senaste datapunkterna där $\\alpha$ minskas exponentiellt ju längre bak i tiden vi går. Formeln lyder: \n",
        "\n",
        "$$\\sigma^2 = \\lambda\\sigma^2_{n-1} + (1-\\lambda)u^2_{n-1}$$\n",
        "\n",
        "där $n$ är varje datapunkt. \n",
        "Ett högt värde på $\\lambda < 1$ gör att vi får en mer långsam minskning i vår seriedata. I praxis brukar denna vara runt $0.94$.\n",
        "\n",
        "Notera att formeln är rekursiv! \n",
        "\n",
        "Fördelarna med denna modell är:\n",
        "\n",
        "* behövs relativt lite data \n",
        "* tar stor hänsyn till de senaste förändringarna i vårt dataset.\n"
      ]
    },
    {
      "cell_type": "code",
      "metadata": {
        "id": "pZPI7GrrvMn_",
        "colab_type": "code",
        "colab": {}
      },
      "source": [
        "def EwmaModelRekursiv(log_returns, lam):\n",
        "  \"\"\"\n",
        "  rekursiva delen av EWMA-modellen\n",
        "  \"\"\"\n",
        "  if len(log_returns)==1:\n",
        "    return log_returns[0]**2\n",
        "  else:\n",
        "    return lam*EwmaModelRekursiv(log_returns[1:],lam)+(1-lam)*(log_returns[0]**2)\n",
        "\n",
        "def EwmaModel(stickprov, lam):\n",
        "  \"\"\"\n",
        "  EMWA-modellen utifrån en pandas-dataframe \"stickprov\" som har en kolumn\n",
        "  'log_returns' redo.\n",
        "  \"\"\"\n",
        "  log_returns = stickprov['log_returns'].to_numpy()\n",
        "  sig_dy = np.sqrt(EwmaModelRekursiv(log_returns, lam))\n",
        "  sig_yr = sig_dy*np.sqrt(252)\n",
        "  return sig_yr"
      ],
      "execution_count": null,
      "outputs": []
    },
    {
      "cell_type": "markdown",
      "metadata": {
        "id": "1rKI_CBW-9Hj",
        "colab_type": "text"
      },
      "source": [
        "### 4.1.2 GARCH-modellen \n",
        "\n",
        "Till skillnad ifrån EMWA-modellen tar denna modell hänsyn till den långvariga medelvariansen, $V_L$. Formeln lyder:\n",
        "\n",
        "$$\\sigma^2_n = V_L\\gamma + \\alpha u^2_{n-1} + \\beta\\sigma^2_{n-1}$$\n",
        "\n",
        "där $\\gamma$ lägger en viktning på den långvariga medelvariansen, $\\alpha$ lägger viktning på den kvadrerade förgående dagens avkastningen och $\\beta$ på gårdagens varians. Och eftersom dessa variabler är viktade gäller:\n",
        "\n",
        "$$\\gamma + \\alpha + \\beta = 1$$\n",
        "\n",
        "Om du kollar riktigt noggrant är EMWA-modellen bara ett specialfall av GARCH.\n",
        "\n",
        "Fördelen med denna modell är att den också tar hänsyn till *mean reversion*, att saker det på sikt håller sig stabilt kring en viss volatilitet. \n",
        "\n"
      ]
    },
    {
      "cell_type": "code",
      "metadata": {
        "id": "DHeYd4dZk88_",
        "colab_type": "code",
        "colab": {}
      },
      "source": [
        "def GarchModelRekursiv(log_returns, V_L, gamma, alpha, beta):\n",
        "  \"\"\"\n",
        "  Den rekursiva delen av formeln\n",
        "  \"\"\"\n",
        "  if len(log_returns)==1:\n",
        "    return log_returns[0]**2\n",
        "  else:\n",
        "    return V_L*gamma+alpha*(log_returns[0]**2)+beta*GarchModelRekursiv(log_returns[1:],V_L, gamma, alpha, beta)\n",
        "\n",
        "def GarchModel(stickprov, V_L, gamma, alpha, beta):\n",
        "  \"\"\"\n",
        "  Garch Model utifrån en pandas-dataframe \"stickprov\" som har en kolumn\n",
        "  'log_returns' redo. Komihåg gamma+alpha+beta=1\n",
        "  \"\"\"\n",
        "  log_returns = stickprov['log_returns'].to_numpy()       # skapa en vektor\n",
        "  sig_dy = np.sqrt(GarchModelRekursiv(log_returns, V_L, gamma, alpha, beta))\n",
        "  sig_yr = sig_dy*np.sqrt(252)\n",
        "  return sig_yr"
      ],
      "execution_count": null,
      "outputs": []
    },
    {
      "cell_type": "markdown",
      "metadata": {
        "id": "-MzicXeP-_Zx",
        "colab_type": "text"
      },
      "source": [
        "**Reflektionsfrågor**\n",
        "\n",
        "1. Vilka antaganden bygger dessa modeller på?\n",
        "\n",
        "2. Hur hanterar man det prognosfel som uppstår? \n",
        "\n",
        "3. Finns det omständigheter när den adaptiva modellen är att föredra framför den statiska och vice versa? \n",
        "\n"
      ]
    },
    {
      "cell_type": "markdown",
      "metadata": {
        "id": "OdHfhv701Neu",
        "colab_type": "text"
      },
      "source": [
        "## 4.2 För optioner \\$\n",
        "\n",
        "Det tog några sidor att gå igenom, men förhoppningsvis gav de föregående bladen någon form av insikt! För det är inte helt oanvändbar kunskap, köpoptioner fyller en viktig funktion. Investerare använder dessa, och liknande, rättigheter som en försäkring mot potentiella risker framtiden skymmer. Optioner är fyller en nyttig funktion, inte bara för investerare, utan också för industriverksamheter. En väldigt användbar option är något som kallas *valutaoptioner*.\n",
        "\n",
        "En valutaoption ger dig rättighet till att köpa en bestämd mängd av en valuta i framtiden för en förutbestämt växelkurs. Prissättningen av en valutaoption görs på ett liknande sätt som på ett derivat med en aktie som underlag, och med viss ändring i formeln. Black scholes-modellen modifieras till följande: \n",
        "\n",
        "$$BS_\\text{forex}(S_0,K,T,\\sigma, r) = \\Phi (d_1) S_0 \\cdot e^{-r_f T} - \\Phi (d_2) \\cdot e^{-r_d T} K $$\n",
        "\n",
        "där $d_1$ och $d_2$ ges av \n",
        "\n",
        "$$ d_1 = \\frac{\\ln{S_0/K}+(r_d-r_f + \\sigma^2 /2) T }{\\sigma \\sqrt{T}}$$\n",
        "\n",
        "$$d_2 = d_1 - \\sigma  \\sqrt{T} $$\n",
        " \n",
        "variablerna som skiljer från den tidigare modellen är: \n",
        "\n",
        "* $S$ *spot exchange rate*, dagens växelkurs.\n",
        "\n",
        "* $r_f$ *foreign  risk-free interest rate*, den utländska valutans riskfria ränta.\n",
        "\n",
        "* $r_d$ *domestic risk-free interest rate* den inhemska valutans riskfria ränta."
      ]
    },
    {
      "cell_type": "code",
      "metadata": {
        "id": "6qhexCW51Znh",
        "colab_type": "code",
        "colab": {}
      },
      "source": [
        "def black_scholes_forex(S, K, T, r_d, r_f, sigma):\n",
        "  \"\"\"\n",
        "  Lämnas åt läsaren... Behövs i Kapitel 5!\n",
        "  \"\"\"\n",
        "  return bs_pris"
      ],
      "execution_count": null,
      "outputs": []
    }
  ]
}